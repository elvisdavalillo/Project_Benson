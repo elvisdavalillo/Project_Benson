{
 "cells": [
  {
   "cell_type": "markdown",
   "metadata": {},
   "source": [
    "This notebook wrangles New York, NY census data from the American Community Survey website. The csv contains information abbout:\n",
    "\n",
    "- total households  \n",
    "\n",
    "- household income (100k-149k, 150k-199k, 200k over )\n",
    "\n",
    "- public transportation commuting "
   ]
  },
  {
   "cell_type": "code",
   "execution_count": 1,
   "metadata": {},
   "outputs": [],
   "source": [
    "import pandas as pd\n",
    "import numpy as np\n",
    "\n",
    "import matplotlib.pyplot as plt\n",
    "%matplotlib inline"
   ]
  },
  {
   "cell_type": "code",
   "execution_count": 2,
   "metadata": {},
   "outputs": [],
   "source": [
    "income_data = 'household_income.csv'\n",
    "commute_data = 'commute.csv'"
   ]
  },
  {
   "cell_type": "code",
   "execution_count": 3,
   "metadata": {},
   "outputs": [],
   "source": [
    "income_df = pd.read_csv(income_data,\n",
    "                       usecols = ['GEO.display-label', 'HC01_EST_VC01', 'HC01_EST_VC09', 'HC04_EST_VC10','HC01_EST_VC11']\n",
    "                       )\n",
    "\n",
    "commute_df = pd.read_csv(commute_data, \n",
    "                         usecols = ['GEO.display-label', 'HC01_EST_VC10']\n",
    "                        )\n",
    "dfs = [income_df, commute_df]\n",
    "\n",
    "for df in dfs:\n",
    "    df.drop(0, inplace=True)\n",
    "    df.reset_index(drop=True)"
   ]
  },
  {
   "cell_type": "code",
   "execution_count": 4,
   "metadata": {},
   "outputs": [],
   "source": [
    "income_df.rename(columns = { 'GEO.display-label': 'zip_code',\n",
    "                            'HC01_EST_VC01': 'total_households',\n",
    "                           'HC01_EST_VC09': 'percent_100_149k',\n",
    "                           'HC04_EST_VC10': 'percent_150_199k',\n",
    "                           'HC01_EST_VC11': 'percent_200k_over'},\n",
    "                 inplace=True\n",
    "                )"
   ]
  },
  {
   "cell_type": "code",
   "execution_count": 5,
   "metadata": {},
   "outputs": [],
   "source": [
    "commute_df.rename(columns = {'GEO.display-label': 'zip_code',\n",
    "                            'HC01_EST_VC10': 'percent_public_trans'},\n",
    "                 inplace = True\n",
    "                 )"
   ]
  },
  {
   "cell_type": "code",
   "execution_count": 6,
   "metadata": {},
   "outputs": [],
   "source": [
    "# let's format the zipcode column\n",
    "income_df['zip_code'] = income_df['zip_code'].map(lambda x : str(x)[-5:])"
   ]
  },
  {
   "cell_type": "code",
   "execution_count": 7,
   "metadata": {},
   "outputs": [],
   "source": [
    "commute_df['zip_code'] = commute_df['zip_code'].map(lambda x : str(x)[-5:])"
   ]
  },
  {
   "cell_type": "code",
   "execution_count": 8,
   "metadata": {},
   "outputs": [],
   "source": [
    "#in order to perform operations in the numerical columns we need to convert them to float and/or integers \n",
    "income_df['zip_code'] = income_df['zip_code'].apply(int)\n",
    "income_df['total_households'] = income_df['total_households'].apply(float)"
   ]
  },
  {
   "cell_type": "code",
   "execution_count": 9,
   "metadata": {},
   "outputs": [],
   "source": [
    "percents = {\n",
    "            'percent_100_149k': 'total_100_149k',\n",
    "            'percent_150_199k': 'total_150_199k',\n",
    "            'percent_200k_over': 'total_200k_over'\n",
    "           }"
   ]
  },
  {
   "cell_type": "code",
   "execution_count": 10,
   "metadata": {},
   "outputs": [],
   "source": [
    "for percent in percents:\n",
    "    income_df.loc[income_df[percent] == '-', percent] = 0"
   ]
  },
  {
   "cell_type": "code",
   "execution_count": 11,
   "metadata": {},
   "outputs": [],
   "source": [
    "income_df['total_households'] = income_df['total_households'].apply(float)\n",
    "\n",
    "for percent in percents:\n",
    "    income_df[percent] = income_df[percent].apply(float)"
   ]
  },
  {
   "cell_type": "code",
   "execution_count": 12,
   "metadata": {},
   "outputs": [
    {
     "data": {
      "text/plain": [
       "zip_code               int64\n",
       "total_households     float64\n",
       "percent_100_149k     float64\n",
       "percent_150_199k     float64\n",
       "percent_200k_over    float64\n",
       "dtype: object"
      ]
     },
     "execution_count": 12,
     "metadata": {},
     "output_type": "execute_result"
    }
   ],
   "source": [
    "income_df.dtypes"
   ]
  },
  {
   "cell_type": "code",
   "execution_count": 13,
   "metadata": {},
   "outputs": [],
   "source": [
    "commute_df.loc[commute_df['percent_public_trans'] == '-'] = 0"
   ]
  },
  {
   "cell_type": "code",
   "execution_count": 14,
   "metadata": {},
   "outputs": [],
   "source": [
    "commute_df['zip_code'] = commute_df['zip_code'].apply(int)\n",
    "commute_df['percent_public_trans'] = commute_df['percent_public_trans'].apply(float)"
   ]
  },
  {
   "cell_type": "code",
   "execution_count": 15,
   "metadata": {},
   "outputs": [],
   "source": [
    "# we are going to be analyzing the data by zip code so to make the analysis easier let's index it by that column\n",
    "income_df = income_df.set_index('zip_code')"
   ]
  },
  {
   "cell_type": "code",
   "execution_count": 16,
   "metadata": {},
   "outputs": [],
   "source": [
    "commute_df = commute_df.set_index('zip_code')"
   ]
  },
  {
   "cell_type": "code",
   "execution_count": 17,
   "metadata": {},
   "outputs": [],
   "source": [
    "consolidated_df = income_df.join(commute_df)"
   ]
  },
  {
   "cell_type": "code",
   "execution_count": 18,
   "metadata": {},
   "outputs": [],
   "source": [
    "consolidated_df = consolidated_df.reset_index()\n",
    "#consolidated_df.head()"
   ]
  },
  {
   "cell_type": "code",
   "execution_count": 19,
   "metadata": {},
   "outputs": [
    {
     "data": {
      "text/html": [
       "<div>\n",
       "<style scoped>\n",
       "    .dataframe tbody tr th:only-of-type {\n",
       "        vertical-align: middle;\n",
       "    }\n",
       "\n",
       "    .dataframe tbody tr th {\n",
       "        vertical-align: top;\n",
       "    }\n",
       "\n",
       "    .dataframe thead th {\n",
       "        text-align: right;\n",
       "    }\n",
       "</style>\n",
       "<table border=\"1\" class=\"dataframe\">\n",
       "  <thead>\n",
       "    <tr style=\"text-align: right;\">\n",
       "      <th></th>\n",
       "      <th>zip_code</th>\n",
       "      <th>total_households</th>\n",
       "      <th>percent_100_149k</th>\n",
       "      <th>percent_150_199k</th>\n",
       "      <th>percent_200k_over</th>\n",
       "      <th>percent_public_trans</th>\n",
       "    </tr>\n",
       "  </thead>\n",
       "  <tbody>\n",
       "    <tr>\n",
       "      <th>878</th>\n",
       "      <td>12784</td>\n",
       "      <td>12.0</td>\n",
       "      <td>0.0</td>\n",
       "      <td>0.0</td>\n",
       "      <td>0.0</td>\n",
       "      <td>100.0</td>\n",
       "    </tr>\n",
       "    <tr>\n",
       "      <th>40</th>\n",
       "      <td>10044</td>\n",
       "      <td>4820.0</td>\n",
       "      <td>18.6</td>\n",
       "      <td>2.0</td>\n",
       "      <td>19.1</td>\n",
       "      <td>83.2</td>\n",
       "    </tr>\n",
       "    <tr>\n",
       "      <th>352</th>\n",
       "      <td>11430</td>\n",
       "      <td>0.0</td>\n",
       "      <td>0.0</td>\n",
       "      <td>0.0</td>\n",
       "      <td>0.0</td>\n",
       "      <td>82.8</td>\n",
       "    </tr>\n",
       "    <tr>\n",
       "      <th>268</th>\n",
       "      <td>11109</td>\n",
       "      <td>2891.0</td>\n",
       "      <td>23.4</td>\n",
       "      <td>13.0</td>\n",
       "      <td>32.3</td>\n",
       "      <td>81.9</td>\n",
       "    </tr>\n",
       "    <tr>\n",
       "      <th>25</th>\n",
       "      <td>10026</td>\n",
       "      <td>15401.0</td>\n",
       "      <td>12.2</td>\n",
       "      <td>6.0</td>\n",
       "      <td>10.6</td>\n",
       "      <td>78.3</td>\n",
       "    </tr>\n",
       "    <tr>\n",
       "      <th>30</th>\n",
       "      <td>10031</td>\n",
       "      <td>22274.0</td>\n",
       "      <td>10.3</td>\n",
       "      <td>2.4</td>\n",
       "      <td>4.2</td>\n",
       "      <td>76.9</td>\n",
       "    </tr>\n",
       "    <tr>\n",
       "      <th>38</th>\n",
       "      <td>10039</td>\n",
       "      <td>11153.0</td>\n",
       "      <td>8.1</td>\n",
       "      <td>1.0</td>\n",
       "      <td>2.1</td>\n",
       "      <td>76.6</td>\n",
       "    </tr>\n",
       "    <tr>\n",
       "      <th>262</th>\n",
       "      <td>11101</td>\n",
       "      <td>12474.0</td>\n",
       "      <td>13.8</td>\n",
       "      <td>7.5</td>\n",
       "      <td>11.9</td>\n",
       "      <td>76.2</td>\n",
       "    </tr>\n",
       "    <tr>\n",
       "      <th>293</th>\n",
       "      <td>11226</td>\n",
       "      <td>36677.0</td>\n",
       "      <td>11.0</td>\n",
       "      <td>2.2</td>\n",
       "      <td>3.5</td>\n",
       "      <td>73.6</td>\n",
       "    </tr>\n",
       "    <tr>\n",
       "      <th>87</th>\n",
       "      <td>10454</td>\n",
       "      <td>13085.0</td>\n",
       "      <td>4.2</td>\n",
       "      <td>0.1</td>\n",
       "      <td>0.7</td>\n",
       "      <td>73.0</td>\n",
       "    </tr>\n",
       "  </tbody>\n",
       "</table>\n",
       "</div>"
      ],
      "text/plain": [
       "     zip_code  total_households  percent_100_149k  percent_150_199k  \\\n",
       "878     12784              12.0               0.0               0.0   \n",
       "40      10044            4820.0              18.6               2.0   \n",
       "352     11430               0.0               0.0               0.0   \n",
       "268     11109            2891.0              23.4              13.0   \n",
       "25      10026           15401.0              12.2               6.0   \n",
       "30      10031           22274.0              10.3               2.4   \n",
       "38      10039           11153.0               8.1               1.0   \n",
       "262     11101           12474.0              13.8               7.5   \n",
       "293     11226           36677.0              11.0               2.2   \n",
       "87      10454           13085.0               4.2               0.1   \n",
       "\n",
       "     percent_200k_over  percent_public_trans  \n",
       "878                0.0                 100.0  \n",
       "40                19.1                  83.2  \n",
       "352                0.0                  82.8  \n",
       "268               32.3                  81.9  \n",
       "25                10.6                  78.3  \n",
       "30                 4.2                  76.9  \n",
       "38                 2.1                  76.6  \n",
       "262               11.9                  76.2  \n",
       "293                3.5                  73.6  \n",
       "87                 0.7                  73.0  "
      ]
     },
     "execution_count": 19,
     "metadata": {},
     "output_type": "execute_result"
    }
   ],
   "source": [
    "consolidated_df.sort_values(by = [\"percent_public_trans\",\"percent_200k_over\"], ascending = False).head(10)"
   ]
  },
  {
   "cell_type": "code",
   "execution_count": 20,
   "metadata": {},
   "outputs": [
    {
     "data": {
      "text/html": [
       "<div>\n",
       "<style scoped>\n",
       "    .dataframe tbody tr th:only-of-type {\n",
       "        vertical-align: middle;\n",
       "    }\n",
       "\n",
       "    .dataframe tbody tr th {\n",
       "        vertical-align: top;\n",
       "    }\n",
       "\n",
       "    .dataframe thead th {\n",
       "        text-align: right;\n",
       "    }\n",
       "</style>\n",
       "<table border=\"1\" class=\"dataframe\">\n",
       "  <thead>\n",
       "    <tr style=\"text-align: right;\">\n",
       "      <th></th>\n",
       "      <th>zip_code</th>\n",
       "      <th>total_households</th>\n",
       "      <th>percent_100_149k</th>\n",
       "      <th>percent_150_199k</th>\n",
       "      <th>percent_200k_over</th>\n",
       "      <th>percent_public_trans</th>\n",
       "    </tr>\n",
       "  </thead>\n",
       "  <tbody>\n",
       "    <tr>\n",
       "      <th>2</th>\n",
       "      <td>10001</td>\n",
       "      <td>12347.0</td>\n",
       "      <td>15.7</td>\n",
       "      <td>6.2</td>\n",
       "      <td>22.4</td>\n",
       "      <td>46.1</td>\n",
       "    </tr>\n",
       "    <tr>\n",
       "      <th>3</th>\n",
       "      <td>10002</td>\n",
       "      <td>33461.0</td>\n",
       "      <td>9.2</td>\n",
       "      <td>4.0</td>\n",
       "      <td>6.4</td>\n",
       "      <td>53.8</td>\n",
       "    </tr>\n",
       "    <tr>\n",
       "      <th>4</th>\n",
       "      <td>10003</td>\n",
       "      <td>26699.0</td>\n",
       "      <td>14.4</td>\n",
       "      <td>10.6</td>\n",
       "      <td>26.8</td>\n",
       "      <td>53.1</td>\n",
       "    </tr>\n",
       "    <tr>\n",
       "      <th>5</th>\n",
       "      <td>10004</td>\n",
       "      <td>1587.0</td>\n",
       "      <td>25.4</td>\n",
       "      <td>14.0</td>\n",
       "      <td>33.0</td>\n",
       "      <td>59.3</td>\n",
       "    </tr>\n",
       "    <tr>\n",
       "      <th>6</th>\n",
       "      <td>10005</td>\n",
       "      <td>4239.0</td>\n",
       "      <td>22.8</td>\n",
       "      <td>16.0</td>\n",
       "      <td>37.5</td>\n",
       "      <td>64.0</td>\n",
       "    </tr>\n",
       "  </tbody>\n",
       "</table>\n",
       "</div>"
      ],
      "text/plain": [
       "   zip_code  total_households  percent_100_149k  percent_150_199k  \\\n",
       "2     10001           12347.0              15.7               6.2   \n",
       "3     10002           33461.0               9.2               4.0   \n",
       "4     10003           26699.0              14.4              10.6   \n",
       "5     10004            1587.0              25.4              14.0   \n",
       "6     10005            4239.0              22.8              16.0   \n",
       "\n",
       "   percent_200k_over  percent_public_trans  \n",
       "2               22.4                  46.1  \n",
       "3                6.4                  53.8  \n",
       "4               26.8                  53.1  \n",
       "5               33.0                  59.3  \n",
       "6               37.5                  64.0  "
      ]
     },
     "execution_count": 20,
     "metadata": {},
     "output_type": "execute_result"
    }
   ],
   "source": [
    "# remove incorrect zipcode from dataframe\n",
    "consolidated_df['zip_code'] = consolidated_df['zip_code'].apply(lambda x: x if str(x)[0]=='1' else 0)\n",
    "consolidated_df = consolidated_df[consolidated_df['zip_code'] != 0]\n",
    "consolidated_df.head()"
   ]
  },
  {
   "cell_type": "markdown",
   "metadata": {},
   "source": [
    "### Visualization"
   ]
  },
  {
   "cell_type": "code",
   "execution_count": 21,
   "metadata": {},
   "outputs": [
    {
     "data": {
      "image/png": "[encoded data removed]",
      "text/plain": [
       "<Figure size 864x576 with 1 Axes>"
      ]
     },
     "metadata": {
      "needs_background": "light"
     },
     "output_type": "display_data"
    }
   ],
   "source": [
    "import seaborn as sns \n",
    "\n",
    "fig, ax = plt.subplots()\n",
    "fig.set_size_inches(12, 8)\n",
    "\n",
    "sns.scatterplot(x=\"percent_200k_over\", y=\"percent_public_trans\", hue = \"zip_code\", data=consolidated_df)\n",
    "\n",
    "    \n",
    "fig.savefig('public_trans_200k.png')"
   ]
  },
  {
   "cell_type": "markdown",
   "metadata": {},
   "source": [
    "### Save census df to pickle"
   ]
  },
  {
   "cell_type": "code",
   "execution_count": 22,
   "metadata": {},
   "outputs": [],
   "source": [
    "consolidated_df.to_pickle('census_nyc.pkl')"
   ]
  },
  {
   "cell_type": "code",
   "execution_count": null,
   "metadata": {},
   "outputs": [],
   "source": []
  },
  {
   "cell_type": "code",
   "execution_count": null,
   "metadata": {},
   "outputs": [],
   "source": []
  }
 ],
 "metadata": {
  "kernelspec": {
   "display_name": "Python 3",
   "language": "python",
   "name": "python3"
  },
  "language_info": {
   "codemirror_mode": {
    "name": "ipython",
    "version": 3
   },
   "file_extension": ".py",
   "mimetype": "text/x-python",
   "name": "python",
   "nbconvert_exporter": "python",
   "pygments_lexer": "ipython3",
   "version": "3.7.3"
  },
  "toc": {
   "base_numbering": 1,
   "nav_menu": {},
   "number_sections": true,
   "sideBar": true,
   "skip_h1_title": false,
   "title_cell": "Table of Contents",
   "title_sidebar": "Contents",
   "toc_cell": false,
   "toc_position": {},
   "toc_section_display": true,
   "toc_window_display": false
  },
  "varInspector": {
   "cols": {
    "lenName": 16,
    "lenType": 16,
    "lenVar": 40
   },
   "kernels_config": {
    "python": {
     "delete_cmd_postfix": "",
     "delete_cmd_prefix": "del ",
     "library": "var_list.py",
     "varRefreshCmd": "print(var_dic_list())"
    },
    "r": {
     "delete_cmd_postfix": ") ",
     "delete_cmd_prefix": "rm(",
     "library": "var_list.r",
     "varRefreshCmd": "cat(var_dic_list()) "
    }
   },
   "types_to_exclude": [
    "module",
    "function",
    "builtin_function_or_method",
    "instance",
    "_Feature"
   ],
   "window_display": false
  }
 },
 "nbformat": 4,
 "nbformat_minor": 2
}
